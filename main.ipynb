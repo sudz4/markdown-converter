{
 "cells": [
  {
   "attachments": {},
   "cell_type": "markdown",
   "metadata": {},
   "source": [
    "| Table Name (UI) | Technical Name | Description |\n",
    "| --- | --- | --- |\n",
    "| Business Unit | cmn_cost_center | Contains records for each business unit within your organization. Business units can be used for categorizing costs, work, and other elements at a more granular level than a company. |\n",
    "| Department | cmn_department | Contains records for each department within your organization. Each user can be assigned to a department, which can be used for routing decisions, reporting, and other functions. |\n",
    "| Location | cmn_location | Contains records for physical locations where your company operates. This can include offices, data centers, or other locations. Each user and asset can be associated with a location. |\n",
    "| Company | core_company | Contains records for each company that your organization interacts with. This can include your own company, vendors, partners, and customers. |\n",
    "| Vendor | core_company | Contains records for each vendor that your organization interacts with. In ServiceNow, vendors are often stored in the Company table, and differentiated by a field such as type or category. |\n",
    "| User | sys_user | Contains a record for each individual who has (or had) access to your ServiceNow instance. It includes information like their name, email, roles, etc. |\n",
    "| Group | sys_user_group | Contains records for each group of users within your ServiceNow instance. Groups can be used for many purposes, like assignment, approval rules, notifications, and access control. |\n",
    "| Group Members | sys_user_grmember | Contains records of the relationships between users and groups. Each record represents a user being a member of a group. |\n",
    "| Role | sys_user_role | Contains records for each role within your ServiceNow instance. Roles are used to define what actions a user can perform and what data they can access. |"
   ]
  },
  {
   "cell_type": "code",
   "execution_count": null,
   "metadata": {},
   "outputs": [
    {
     "ename": "",
     "evalue": "",
     "output_type": "error",
     "traceback": [
      "\u001b[1;31mThe kernel failed to start as the Python Environment 'mc_venv' is no longer available. Consider selecting another kernel or refreshing the list of Python Environments."
     ]
    }
   ],
   "source": [
    "# libs\n",
    "import pandas as pd\n",
    "from io import StringIO"
   ]
  },
  {
   "cell_type": "code",
   "execution_count": null,
   "metadata": {},
   "outputs": [],
   "source": [
    "\n",
    "markdown_table = \"\"\"\n",
    "| Table Name (UI) | Technical Name | Description |\n",
    "| --- | --- | --- |\n",
    "| Business Unit | cmn_cost_center | Contains records for each business unit within your organization. Business units can be used for categorizing costs, work, and other elements at a more granular level than a company. |\n",
    "| Department | cmn_department | Contains records for each department within your organization. Each user can be assigned to a department, which can be used for routing decisions, reporting, and other functions. |\n",
    "| Location | cmn_location | Contains records for physical locations where your company operates. This can include offices, data centers, or other locations. Each user and asset can be associated with a location. |\n",
    "| Company | core_company | Contains records for each company that your organization interacts with. This can include your own company, vendors, partners, and customers. |\n",
    "| Vendor | core_company | Contains records for each vendor that your organization interacts with. In ServiceNow, vendors are often stored in the Company table, and differentiated by a field such as type or category. |\n",
    "| User | sys_user | Contains a record for each individual who has (or had) access to your ServiceNow instance. It includes information like their name, email, roles, etc. |\n",
    "| Group | sys_user_group | Contains records for each group of users within your ServiceNow instance. Groups can be used for many purposes, like assignment, approval rules, notifications, and access control. |\n",
    "| Group Members | sys_user_grmember | Contains records of the relationships between users and groups. Each record represents a user being a member of a group. |\n",
    "| Role | sys_user_role | Contains records for each role within your ServiceNow instance. Roles are used to define what actions a user can perform and what data they can access. |\n",
    "\"\"\"\n"
   ]
  },
  {
   "cell_type": "code",
   "execution_count": null,
   "metadata": {},
   "outputs": [],
   "source": [
    "# Remove the unnecessary \"---\" line and strip off the leading and trailing spaces\n",
    "markdown_table = markdown_table.split(\"\\n\")[2:-1]\n",
    "markdown_table = [row.strip() for row in markdown_table]\n",
    "\n",
    "# Join all rows into a single string, separated by \"\\n\"\n",
    "markdown_table = \"\\n\".join(markdown_table)\n",
    "\n",
    "# Convert the markdown table into a pandas DataFrame\n",
    "dataframe = pd.read_table(StringIO(markdown_table), sep='|', skipinitialspace=True)\n",
    "\n",
    "print(dataframe)"
   ]
  }
 ],
 "metadata": {
  "kernelspec": {
   "display_name": "mc_venv",
   "language": "python",
   "name": "python3"
  },
  "language_info": {
   "name": "python",
   "version": "3.11.1"
  },
  "orig_nbformat": 4
 },
 "nbformat": 4,
 "nbformat_minor": 2
}
