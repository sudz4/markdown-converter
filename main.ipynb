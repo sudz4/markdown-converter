{
 "cells": [
  {
   "attachments": {},
   "cell_type": "markdown",
   "metadata": {},
   "source": [
    "## The program takes a markdown table output (from CHATGPT in a separate browser) then converts to a usable table.\n",
    "#### Example of a markdown text input below (toggle on configure to see it).\n",
    "\n",
    "| Table Name (UI) | Technical Name | Description |\n",
    "| --- | --- | --- |\n",
    "| Business Unit | cmn_cost_center | Contains records for each business unit within your organization. Business units can be used for categorizing costs, work, and other elements at a more granular level than a company. |\n",
    "| Department | cmn_department | Contains records for each department within your organization. Each user can be assigned to a department, which can be used for routing decisions, reporting, and other functions. |\n",
    "| Location | cmn_location | Contains records for physical locations where your company operates. This can include offices, data centers, or other locations. Each user and asset can be associated with a location. |\n",
    "| Company | core_company | Contains records for each company that your organization interacts with. This can include your own company, vendors, partners, and customers. |\n",
    "| Vendor | core_company | Contains records for each vendor that your organization interacts with. In ServiceNow, vendors are often stored in the Company table, and differentiated by a field such as type or category. |\n",
    "| User | sys_user | Contains a record for each individual who has (or had) access to your ServiceNow instance. It includes information like their name, email, roles, etc. |\n",
    "| Group | sys_user_group | Contains records for each group of users within your ServiceNow instance. Groups can be used for many purposes, like assignment, approval rules, notifications, and access control. |\n",
    "| Group Members | sys_user_grmember | Contains records of the relationships between users and groups. Each record represents a user being a member of a group. |\n",
    "| Role | sys_user_role | Contains records for each role within your ServiceNow instance. Roles are used to define what actions a user can perform and what data they can access. |"
   ]
  },
  {
   "cell_type": "code",
   "execution_count": 12,
   "metadata": {},
   "outputs": [
    {
     "ename": "ValueError",
     "evalue": "Length mismatch: Expected axis has 5 elements, new values have 3 elements",
     "output_type": "error",
     "traceback": [
      "\u001b[0;31m---------------------------------------------------------------------------\u001b[0m",
      "\u001b[0;31mValueError\u001b[0m                                Traceback (most recent call last)",
      "Cell \u001b[0;32mIn[12], line 25\u001b[0m\n\u001b[1;32m     22\u001b[0m dataframe \u001b[39m=\u001b[39m pd\u001b[39m.\u001b[39mread_csv(StringIO(\u001b[39m'\u001b[39m\u001b[39m\\n\u001b[39;00m\u001b[39m'\u001b[39m\u001b[39m.\u001b[39mjoin(markdown_lines[\u001b[39m1\u001b[39m:])), sep\u001b[39m=\u001b[39m\u001b[39m'\u001b[39m\u001b[39m|\u001b[39m\u001b[39m'\u001b[39m)\u001b[39m.\u001b[39mapply(\u001b[39mlambda\u001b[39;00m x: x\u001b[39m.\u001b[39mstr\u001b[39m.\u001b[39mstrip() \u001b[39mif\u001b[39;00m x\u001b[39m.\u001b[39mdtype \u001b[39m==\u001b[39m \u001b[39m\"\u001b[39m\u001b[39mobject\u001b[39m\u001b[39m\"\u001b[39m \u001b[39melse\u001b[39;00m x)\n\u001b[1;32m     24\u001b[0m \u001b[39m# Set column names manually\u001b[39;00m\n\u001b[0;32m---> 25\u001b[0m dataframe\u001b[39m.\u001b[39;49mcolumns \u001b[39m=\u001b[39m [col\u001b[39m.\u001b[39mstrip() \u001b[39mfor\u001b[39;00m col \u001b[39min\u001b[39;00m markdown_lines[\u001b[39m0\u001b[39m]\u001b[39m.\u001b[39msplit(\u001b[39m\"\u001b[39m\u001b[39m|\u001b[39m\u001b[39m\"\u001b[39m)[\u001b[39m1\u001b[39m:\u001b[39m-\u001b[39m\u001b[39m1\u001b[39m]]\n\u001b[1;32m     27\u001b[0m \u001b[39mprint\u001b[39m(dataframe)\n",
      "File \u001b[0;32m~/Desktop/SUDZ4DEV/markdown-converter/mc_venv/lib/python3.11/site-packages/pandas/core/generic.py:6002\u001b[0m, in \u001b[0;36mNDFrame.__setattr__\u001b[0;34m(self, name, value)\u001b[0m\n\u001b[1;32m   6000\u001b[0m \u001b[39mtry\u001b[39;00m:\n\u001b[1;32m   6001\u001b[0m     \u001b[39mobject\u001b[39m\u001b[39m.\u001b[39m\u001b[39m__getattribute__\u001b[39m(\u001b[39mself\u001b[39m, name)\n\u001b[0;32m-> 6002\u001b[0m     \u001b[39mreturn\u001b[39;00m \u001b[39mobject\u001b[39;49m\u001b[39m.\u001b[39;49m\u001b[39m__setattr__\u001b[39;49m(\u001b[39mself\u001b[39;49m, name, value)\n\u001b[1;32m   6003\u001b[0m \u001b[39mexcept\u001b[39;00m \u001b[39mAttributeError\u001b[39;00m:\n\u001b[1;32m   6004\u001b[0m     \u001b[39mpass\u001b[39;00m\n",
      "File \u001b[0;32m~/Desktop/SUDZ4DEV/markdown-converter/mc_venv/lib/python3.11/site-packages/pandas/_libs/properties.pyx:69\u001b[0m, in \u001b[0;36mpandas._libs.properties.AxisProperty.__set__\u001b[0;34m()\u001b[0m\n",
      "File \u001b[0;32m~/Desktop/SUDZ4DEV/markdown-converter/mc_venv/lib/python3.11/site-packages/pandas/core/generic.py:730\u001b[0m, in \u001b[0;36mNDFrame._set_axis\u001b[0;34m(self, axis, labels)\u001b[0m\n\u001b[1;32m    725\u001b[0m \u001b[39m\u001b[39m\u001b[39m\"\"\"\u001b[39;00m\n\u001b[1;32m    726\u001b[0m \u001b[39mThis is called from the cython code when we set the `index` attribute\u001b[39;00m\n\u001b[1;32m    727\u001b[0m \u001b[39mdirectly, e.g. `series.index = [1, 2, 3]`.\u001b[39;00m\n\u001b[1;32m    728\u001b[0m \u001b[39m\"\"\"\u001b[39;00m\n\u001b[1;32m    729\u001b[0m labels \u001b[39m=\u001b[39m ensure_index(labels)\n\u001b[0;32m--> 730\u001b[0m \u001b[39mself\u001b[39;49m\u001b[39m.\u001b[39;49m_mgr\u001b[39m.\u001b[39;49mset_axis(axis, labels)\n\u001b[1;32m    731\u001b[0m \u001b[39mself\u001b[39m\u001b[39m.\u001b[39m_clear_item_cache()\n",
      "File \u001b[0;32m~/Desktop/SUDZ4DEV/markdown-converter/mc_venv/lib/python3.11/site-packages/pandas/core/internals/managers.py:225\u001b[0m, in \u001b[0;36mBaseBlockManager.set_axis\u001b[0;34m(self, axis, new_labels)\u001b[0m\n\u001b[1;32m    223\u001b[0m \u001b[39mdef\u001b[39;00m \u001b[39mset_axis\u001b[39m(\u001b[39mself\u001b[39m, axis: AxisInt, new_labels: Index) \u001b[39m-\u001b[39m\u001b[39m>\u001b[39m \u001b[39mNone\u001b[39;00m:\n\u001b[1;32m    224\u001b[0m     \u001b[39m# Caller is responsible for ensuring we have an Index object.\u001b[39;00m\n\u001b[0;32m--> 225\u001b[0m     \u001b[39mself\u001b[39;49m\u001b[39m.\u001b[39;49m_validate_set_axis(axis, new_labels)\n\u001b[1;32m    226\u001b[0m     \u001b[39mself\u001b[39m\u001b[39m.\u001b[39maxes[axis] \u001b[39m=\u001b[39m new_labels\n",
      "File \u001b[0;32m~/Desktop/SUDZ4DEV/markdown-converter/mc_venv/lib/python3.11/site-packages/pandas/core/internals/base.py:70\u001b[0m, in \u001b[0;36mDataManager._validate_set_axis\u001b[0;34m(self, axis, new_labels)\u001b[0m\n\u001b[1;32m     67\u001b[0m     \u001b[39mpass\u001b[39;00m\n\u001b[1;32m     69\u001b[0m \u001b[39melif\u001b[39;00m new_len \u001b[39m!=\u001b[39m old_len:\n\u001b[0;32m---> 70\u001b[0m     \u001b[39mraise\u001b[39;00m \u001b[39mValueError\u001b[39;00m(\n\u001b[1;32m     71\u001b[0m         \u001b[39mf\u001b[39m\u001b[39m\"\u001b[39m\u001b[39mLength mismatch: Expected axis has \u001b[39m\u001b[39m{\u001b[39;00mold_len\u001b[39m}\u001b[39;00m\u001b[39m elements, new \u001b[39m\u001b[39m\"\u001b[39m\n\u001b[1;32m     72\u001b[0m         \u001b[39mf\u001b[39m\u001b[39m\"\u001b[39m\u001b[39mvalues have \u001b[39m\u001b[39m{\u001b[39;00mnew_len\u001b[39m}\u001b[39;00m\u001b[39m elements\u001b[39m\u001b[39m\"\u001b[39m\n\u001b[1;32m     73\u001b[0m     )\n",
      "\u001b[0;31mValueError\u001b[0m: Length mismatch: Expected axis has 5 elements, new values have 3 elements"
     ]
    }
   ],
   "source": [
    "import pandas as pd\n",
    "from io import StringIO\n",
    "\n",
    "markdown_table = \"\"\"\n",
    "| Table Name (UI) | Technical Name | Description |\n",
    "| --- | --- | --- |\n",
    "| Business Unit | cmn_cost_center | Contains records for each business unit within your organization. Business units can be used for categorizing costs, work, and other elements at a more granular level than a company. |\n",
    "| Department | cmn_department | Contains records for each department within your organization. Each user can be assigned to a department, which can be used for routing decisions, reporting, and other functions. |\n",
    "| Location | cmn_location | Contains records for physical locations where your company operates. This can include offices, data centers, or other locations. Each user and asset can be associated with a location. |\n",
    "| Company | core_company | Contains records for each company that your organization interacts with. This can include your own company, vendors, partners, and customers. |\n",
    "| Vendor | core_company | Contains records for each vendor that your organization interacts with. In ServiceNow, vendors are often stored in the Company table, and differentiated by a field such as type or category. |\n",
    "| User | sys_user | Contains a record for each individual who has (or had) access to your ServiceNow instance. It includes information like their name, email, roles, etc. |\n",
    "| Group | sys_user_group | Contains records for each group of users within your ServiceNow instance. Groups can be used for many purposes, like assignment, approval rules, notifications, and access control. |\n",
    "| Group Members | sys_user_grmember | Contains records of the relationships between users and groups. Each record represents a user being a member of a group. |\n",
    "| Role | sys_user_role | Contains records for each role within your ServiceNow instance. Roles are used to define what actions a user can perform and what data they can access. |\n",
    "\"\"\"\n",
    "\n",
    "# Split markdown table into lines\n",
    "markdown_lines = markdown_table.split(\"\\n\")[2:-1]\n",
    "\n",
    "# Create a pandas DataFrame, ignoring the first row (containing \"---\")\n",
    "dataframe = pd.read_csv(StringIO('\\n'.join(markdown_lines[1:])), sep='|').apply(lambda x: x.str.strip() if x.dtype == \"object\" else x)\n",
    "\n",
    "# Set column names manually\n",
    "dataframe.columns = [col.strip() for col in markdown_lines[0].split(\"|\")[1:-1]]\n",
    "\n",
    "dataframe\n"
   ]
  },
  {
   "cell_type": "code",
   "execution_count": null,
   "metadata": {},
   "outputs": [],
   "source": []
  }
 ],
 "metadata": {
  "kernelspec": {
   "display_name": "mc_venv",
   "language": "python",
   "name": "python3"
  },
  "language_info": {
   "codemirror_mode": {
    "name": "ipython",
    "version": 3
   },
   "file_extension": ".py",
   "mimetype": "text/x-python",
   "name": "python",
   "nbconvert_exporter": "python",
   "pygments_lexer": "ipython3",
   "version": "3.11.1"
  },
  "orig_nbformat": 4
 },
 "nbformat": 4,
 "nbformat_minor": 2
}
